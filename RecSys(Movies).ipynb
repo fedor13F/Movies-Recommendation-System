{
 "cells": [
  {
   "cell_type": "code",
   "execution_count": 1,
   "id": "2a96b407-89cc-49bd-85d2-1031e003719a",
   "metadata": {},
   "outputs": [],
   "source": [
    "import pandas as pd\n",
    "import numpy as np\n",
    "import matplotlib.pyplot as plt\n",
    "from tqdm import tqdm\n",
    "from scipy.sparse import csr_matrix\n",
    "from sklearn.metrics.pairwise import cosine_similarity\n",
    "from surprise import SVD, Reader, Dataset"
   ]
  },
  {
   "cell_type": "code",
   "execution_count": 2,
   "id": "94ea0052-bf26-41e4-ae89-56732b17fcb4",
   "metadata": {},
   "outputs": [],
   "source": [
    "# считываем данные\n",
    "\n",
    "ratings = pd.read_csv(\"ml-32m/ratings.csv\")\n",
    "movies = pd.read_csv(\"ml-32m/movies.csv\")"
   ]
  },
  {
   "cell_type": "markdown",
   "id": "3b80e50c-2e69-4b6b-992b-3440a4db2952",
   "metadata": {},
   "source": [
    "### Датасет с рейтингами"
   ]
  },
  {
   "cell_type": "code",
   "execution_count": 3,
   "id": "0df85be8-66c3-4471-9949-658ba6711864",
   "metadata": {},
   "outputs": [
    {
     "data": {
      "text/html": [
       "<div>\n",
       "<style scoped>\n",
       "    .dataframe tbody tr th:only-of-type {\n",
       "        vertical-align: middle;\n",
       "    }\n",
       "\n",
       "    .dataframe tbody tr th {\n",
       "        vertical-align: top;\n",
       "    }\n",
       "\n",
       "    .dataframe thead th {\n",
       "        text-align: right;\n",
       "    }\n",
       "</style>\n",
       "<table border=\"1\" class=\"dataframe\">\n",
       "  <thead>\n",
       "    <tr style=\"text-align: right;\">\n",
       "      <th></th>\n",
       "      <th>userId</th>\n",
       "      <th>movieId</th>\n",
       "      <th>rating</th>\n",
       "      <th>timestamp</th>\n",
       "    </tr>\n",
       "  </thead>\n",
       "  <tbody>\n",
       "    <tr>\n",
       "      <th>0</th>\n",
       "      <td>1</td>\n",
       "      <td>17</td>\n",
       "      <td>4.0</td>\n",
       "      <td>944249077</td>\n",
       "    </tr>\n",
       "    <tr>\n",
       "      <th>1</th>\n",
       "      <td>1</td>\n",
       "      <td>25</td>\n",
       "      <td>1.0</td>\n",
       "      <td>944250228</td>\n",
       "    </tr>\n",
       "    <tr>\n",
       "      <th>2</th>\n",
       "      <td>1</td>\n",
       "      <td>29</td>\n",
       "      <td>2.0</td>\n",
       "      <td>943230976</td>\n",
       "    </tr>\n",
       "    <tr>\n",
       "      <th>3</th>\n",
       "      <td>1</td>\n",
       "      <td>30</td>\n",
       "      <td>5.0</td>\n",
       "      <td>944249077</td>\n",
       "    </tr>\n",
       "    <tr>\n",
       "      <th>4</th>\n",
       "      <td>1</td>\n",
       "      <td>32</td>\n",
       "      <td>5.0</td>\n",
       "      <td>943228858</td>\n",
       "    </tr>\n",
       "    <tr>\n",
       "      <th>...</th>\n",
       "      <td>...</td>\n",
       "      <td>...</td>\n",
       "      <td>...</td>\n",
       "      <td>...</td>\n",
       "    </tr>\n",
       "    <tr>\n",
       "      <th>32000199</th>\n",
       "      <td>200948</td>\n",
       "      <td>79702</td>\n",
       "      <td>4.5</td>\n",
       "      <td>1294412589</td>\n",
       "    </tr>\n",
       "    <tr>\n",
       "      <th>32000200</th>\n",
       "      <td>200948</td>\n",
       "      <td>79796</td>\n",
       "      <td>1.0</td>\n",
       "      <td>1287216292</td>\n",
       "    </tr>\n",
       "    <tr>\n",
       "      <th>32000201</th>\n",
       "      <td>200948</td>\n",
       "      <td>80350</td>\n",
       "      <td>0.5</td>\n",
       "      <td>1294412671</td>\n",
       "    </tr>\n",
       "    <tr>\n",
       "      <th>32000202</th>\n",
       "      <td>200948</td>\n",
       "      <td>80463</td>\n",
       "      <td>3.5</td>\n",
       "      <td>1350423800</td>\n",
       "    </tr>\n",
       "    <tr>\n",
       "      <th>32000203</th>\n",
       "      <td>200948</td>\n",
       "      <td>87304</td>\n",
       "      <td>4.5</td>\n",
       "      <td>1350423523</td>\n",
       "    </tr>\n",
       "  </tbody>\n",
       "</table>\n",
       "<p>32000204 rows × 4 columns</p>\n",
       "</div>"
      ],
      "text/plain": [
       "          userId  movieId  rating   timestamp\n",
       "0              1       17     4.0   944249077\n",
       "1              1       25     1.0   944250228\n",
       "2              1       29     2.0   943230976\n",
       "3              1       30     5.0   944249077\n",
       "4              1       32     5.0   943228858\n",
       "...          ...      ...     ...         ...\n",
       "32000199  200948    79702     4.5  1294412589\n",
       "32000200  200948    79796     1.0  1287216292\n",
       "32000201  200948    80350     0.5  1294412671\n",
       "32000202  200948    80463     3.5  1350423800\n",
       "32000203  200948    87304     4.5  1350423523\n",
       "\n",
       "[32000204 rows x 4 columns]"
      ]
     },
     "execution_count": 3,
     "metadata": {},
     "output_type": "execute_result"
    }
   ],
   "source": [
    "ratings"
   ]
  },
  {
   "cell_type": "code",
   "execution_count": 4,
   "id": "9e66ced8-8aa7-4a4c-82eb-fd9238d1fc06",
   "metadata": {},
   "outputs": [],
   "source": [
    "users_id = ratings[\"userId\"].unique()\n",
    "movie_id = ratings[\"movieId\"].unique()"
   ]
  },
  {
   "cell_type": "code",
   "execution_count": 5,
   "id": "946f80c2-1e2f-4480-86f6-accc0116fccb",
   "metadata": {},
   "outputs": [
    {
     "name": "stdout",
     "output_type": "stream",
     "text": [
      "Количество уникальных пользователей: 200,948\n",
      "Количество уникальных фильмов: 84,432\n"
     ]
    }
   ],
   "source": [
    "print(f\"Количество уникальных пользователей: {len(users_id):,}\")\n",
    "print(f\"Количество уникальных фильмов: {len(movie_id):,}\")"
   ]
  },
  {
   "cell_type": "code",
   "execution_count": 6,
   "id": "7426abed-954e-4dad-bef9-f68e20009957",
   "metadata": {},
   "outputs": [
    {
     "name": "stdout",
     "output_type": "stream",
     "text": [
      "Диапазон рейтинга: 0.5 - 5.0\n",
      "Средний рейтинг: 3.5403956487277393\n",
      "Уникальные значения рейтингов: [0.5 1.  1.5 2.  2.5 3.  3.5 4.  4.5 5. ]\n"
     ]
    }
   ],
   "source": [
    "min_rating = ratings[\"rating\"].min()\n",
    "max_rating = ratings[\"rating\"].max()\n",
    "mean_rating = ratings[\"rating\"].mean()\n",
    "uniq_rating = ratings[\"rating\"].unique()\n",
    "\n",
    "print(f\"Диапазон рейтинга: {min_rating} - {max_rating}\")\n",
    "print(f\"Средний рейтинг: {mean_rating}\")\n",
    "print(f\"Уникальные значения рейтингов: {np.sort(uniq_rating)}\")"
   ]
  },
  {
   "cell_type": "code",
   "execution_count": 7,
   "id": "5cd9fd3a-0d24-422a-ae0e-b66bab07fc70",
   "metadata": {},
   "outputs": [
    {
     "data": {
      "image/png": "[encoded data removed]",
      "text/plain": [
       "<Figure size 1000x600 with 1 Axes>"
      ]
     },
     "metadata": {},
     "output_type": "display_data"
    }
   ],
   "source": [
    "count_ratings = ratings[\"rating\"].value_counts().sort_index()\n",
    "\n",
    "plt.figure(figsize=(10, 6))\n",
    "count_ratings.plot(kind='bar', color='lightgreen', edgecolor='black')\n",
    "plt.title('Распределение рейтингов пользователей')\n",
    "plt.xlabel('Рейтинг')\n",
    "plt.ylabel('Количество рейтингов')\n",
    "plt.xticks(rotation=0)\n",
    "plt.grid(axis='y', alpha=0.3)\n",
    "plt.tight_layout()\n",
    "plt.show()"
   ]
  },
  {
   "cell_type": "code",
   "execution_count": 8,
   "id": "315ec969-822e-4b6c-a9fd-4b476683adbc",
   "metadata": {},
   "outputs": [
    {
     "name": "stdout",
     "output_type": "stream",
     "text": [
      "Временной промежуток оценок в датасете: 1995-01-09 11:46:44 - 2023-10-13 02:29:07\n"
     ]
    }
   ],
   "source": [
    "# преобразуем дату и посмотрим временной промежуток\n",
    "ratings['date'] = pd.to_datetime(ratings['timestamp'], unit='s')\n",
    "min_date = ratings[\"date\"].min()\n",
    "max_date = ratings[\"date\"].max()\n",
    "print(f\"Временной промежуток оценок в датасете: {min_date} - {max_date}\")"
   ]
  },
  {
   "cell_type": "code",
   "execution_count": 9,
   "id": "4f3e0a9c-ada8-4164-89ee-090628a6b8c7",
   "metadata": {},
   "outputs": [
    {
     "name": "stdout",
     "output_type": "stream",
     "text": [
      "<class 'pandas.core.frame.DataFrame'>\n",
      "RangeIndex: 32000204 entries, 0 to 32000203\n",
      "Data columns (total 5 columns):\n",
      " #   Column     Dtype         \n",
      "---  ------     -----         \n",
      " 0   userId     int64         \n",
      " 1   movieId    int64         \n",
      " 2   rating     float64       \n",
      " 3   timestamp  int64         \n",
      " 4   date       datetime64[ns]\n",
      "dtypes: datetime64[ns](1), float64(1), int64(3)\n",
      "memory usage: 1.2 GB\n"
     ]
    }
   ],
   "source": [
    "# проверим на пропуски\n",
    "ratings.info()"
   ]
  },
  {
   "cell_type": "code",
   "execution_count": 10,
   "id": "d2520728-f842-41ae-bed3-718d9ee065ae",
   "metadata": {},
   "outputs": [],
   "source": [
    "# пропусков нет"
   ]
  },
  {
   "cell_type": "code",
   "execution_count": 11,
   "id": "be73ff3c-3c3b-48de-910c-2458a76e86f8",
   "metadata": {},
   "outputs": [
    {
     "data": {
      "text/html": [
       "<div>\n",
       "<style scoped>\n",
       "    .dataframe tbody tr th:only-of-type {\n",
       "        vertical-align: middle;\n",
       "    }\n",
       "\n",
       "    .dataframe tbody tr th {\n",
       "        vertical-align: top;\n",
       "    }\n",
       "\n",
       "    .dataframe thead th {\n",
       "        text-align: right;\n",
       "    }\n",
       "</style>\n",
       "<table border=\"1\" class=\"dataframe\">\n",
       "  <thead>\n",
       "    <tr style=\"text-align: right;\">\n",
       "      <th></th>\n",
       "      <th>movieId</th>\n",
       "      <th>title</th>\n",
       "      <th>genres</th>\n",
       "    </tr>\n",
       "  </thead>\n",
       "  <tbody>\n",
       "    <tr>\n",
       "      <th>257</th>\n",
       "      <td>260</td>\n",
       "      <td>Star Wars: Episode IV - A New Hope (1977)</td>\n",
       "      <td>Action|Adventure|Sci-Fi</td>\n",
       "    </tr>\n",
       "    <tr>\n",
       "      <th>292</th>\n",
       "      <td>296</td>\n",
       "      <td>Pulp Fiction (1994)</td>\n",
       "      <td>Comedy|Crime|Drama|Thriller</td>\n",
       "    </tr>\n",
       "    <tr>\n",
       "      <th>314</th>\n",
       "      <td>318</td>\n",
       "      <td>Shawshank Redemption, The (1994)</td>\n",
       "      <td>Crime|Drama</td>\n",
       "    </tr>\n",
       "    <tr>\n",
       "      <th>351</th>\n",
       "      <td>356</td>\n",
       "      <td>Forrest Gump (1994)</td>\n",
       "      <td>Comedy|Drama|Romance|War</td>\n",
       "    </tr>\n",
       "    <tr>\n",
       "      <th>475</th>\n",
       "      <td>480</td>\n",
       "      <td>Jurassic Park (1993)</td>\n",
       "      <td>Action|Adventure|Sci-Fi|Thriller</td>\n",
       "    </tr>\n",
       "    <tr>\n",
       "      <th>522</th>\n",
       "      <td>527</td>\n",
       "      <td>Schindler's List (1993)</td>\n",
       "      <td>Drama|War</td>\n",
       "    </tr>\n",
       "    <tr>\n",
       "      <th>585</th>\n",
       "      <td>593</td>\n",
       "      <td>Silence of the Lambs, The (1991)</td>\n",
       "      <td>Crime|Horror|Thriller</td>\n",
       "    </tr>\n",
       "    <tr>\n",
       "      <th>2480</th>\n",
       "      <td>2571</td>\n",
       "      <td>Matrix, The (1999)</td>\n",
       "      <td>Action|Sci-Fi|Thriller</td>\n",
       "    </tr>\n",
       "    <tr>\n",
       "      <th>2867</th>\n",
       "      <td>2959</td>\n",
       "      <td>Fight Club (1999)</td>\n",
       "      <td>Action|Crime|Drama|Thriller</td>\n",
       "    </tr>\n",
       "    <tr>\n",
       "      <th>4888</th>\n",
       "      <td>4993</td>\n",
       "      <td>Lord of the Rings: The Fellowship of the Ring,...</td>\n",
       "      <td>Adventure|Fantasy</td>\n",
       "    </tr>\n",
       "  </tbody>\n",
       "</table>\n",
       "</div>"
      ],
      "text/plain": [
       "      movieId                                              title  \\\n",
       "257       260          Star Wars: Episode IV - A New Hope (1977)   \n",
       "292       296                                Pulp Fiction (1994)   \n",
       "314       318                   Shawshank Redemption, The (1994)   \n",
       "351       356                                Forrest Gump (1994)   \n",
       "475       480                               Jurassic Park (1993)   \n",
       "522       527                            Schindler's List (1993)   \n",
       "585       593                   Silence of the Lambs, The (1991)   \n",
       "2480     2571                                 Matrix, The (1999)   \n",
       "2867     2959                                  Fight Club (1999)   \n",
       "4888     4993  Lord of the Rings: The Fellowship of the Ring,...   \n",
       "\n",
       "                                genres  \n",
       "257            Action|Adventure|Sci-Fi  \n",
       "292        Comedy|Crime|Drama|Thriller  \n",
       "314                        Crime|Drama  \n",
       "351           Comedy|Drama|Romance|War  \n",
       "475   Action|Adventure|Sci-Fi|Thriller  \n",
       "522                          Drama|War  \n",
       "585              Crime|Horror|Thriller  \n",
       "2480            Action|Sci-Fi|Thriller  \n",
       "2867       Action|Crime|Drama|Thriller  \n",
       "4888                 Adventure|Fantasy  "
      ]
     },
     "execution_count": 11,
     "metadata": {},
     "output_type": "execute_result"
    }
   ],
   "source": [
    "# посмотрим на топ-10 популярных фильмов по количеству оценок\n",
    "top_movies_indexes = ratings.groupby(\"movieId\").count().sort_values(\"rating\", ascending=False).head(10).index\n",
    "top_movies = movies[movies[\"movieId\"].isin(top_movies_indexes)]\n",
    "top_movies"
   ]
  },
  {
   "cell_type": "code",
   "execution_count": 12,
   "id": "e2bbed76-4dd4-4413-971e-1f6d6944ee02",
   "metadata": {},
   "outputs": [
    {
     "data": {
      "text/html": [
       "<div>\n",
       "<style scoped>\n",
       "    .dataframe tbody tr th:only-of-type {\n",
       "        vertical-align: middle;\n",
       "    }\n",
       "\n",
       "    .dataframe tbody tr th {\n",
       "        vertical-align: top;\n",
       "    }\n",
       "\n",
       "    .dataframe thead th {\n",
       "        text-align: right;\n",
       "    }\n",
       "</style>\n",
       "<table border=\"1\" class=\"dataframe\">\n",
       "  <thead>\n",
       "    <tr style=\"text-align: right;\">\n",
       "      <th></th>\n",
       "      <th>movieId</th>\n",
       "      <th>title</th>\n",
       "      <th>genres</th>\n",
       "    </tr>\n",
       "  </thead>\n",
       "  <tbody>\n",
       "    <tr>\n",
       "      <th>24974</th>\n",
       "      <td>122649</td>\n",
       "      <td>The Bates Haunting (2013)</td>\n",
       "      <td>Thriller</td>\n",
       "    </tr>\n",
       "    <tr>\n",
       "      <th>35576</th>\n",
       "      <td>147402</td>\n",
       "      <td>The King and Queen of Moonlight Bay (2003)</td>\n",
       "      <td>Children|Drama</td>\n",
       "    </tr>\n",
       "    <tr>\n",
       "      <th>46660</th>\n",
       "      <td>171849</td>\n",
       "      <td>Without Family (1984)</td>\n",
       "      <td>Children|Drama</td>\n",
       "    </tr>\n",
       "    <tr>\n",
       "      <th>59565</th>\n",
       "      <td>199103</td>\n",
       "      <td>Franco Escamilla: For the Anecdote (2018)</td>\n",
       "      <td>Comedy</td>\n",
       "    </tr>\n",
       "    <tr>\n",
       "      <th>69952</th>\n",
       "      <td>225251</td>\n",
       "      <td>It Feels So Good (2019)</td>\n",
       "      <td>Drama</td>\n",
       "    </tr>\n",
       "    <tr>\n",
       "      <th>79966</th>\n",
       "      <td>268054</td>\n",
       "      <td>Time of the Gods (1992)</td>\n",
       "      <td>Documentary</td>\n",
       "    </tr>\n",
       "    <tr>\n",
       "      <th>79970</th>\n",
       "      <td>268090</td>\n",
       "      <td>A Godwink Christmas: Second Chance, First Love...</td>\n",
       "      <td>Romance</td>\n",
       "    </tr>\n",
       "    <tr>\n",
       "      <th>79974</th>\n",
       "      <td>268114</td>\n",
       "      <td>Amazed By You (2018)</td>\n",
       "      <td>Children</td>\n",
       "    </tr>\n",
       "    <tr>\n",
       "      <th>80068</th>\n",
       "      <td>268438</td>\n",
       "      <td>Paul McCartney: Back in the U.S. (2002)</td>\n",
       "      <td>Documentary</td>\n",
       "    </tr>\n",
       "    <tr>\n",
       "      <th>80077</th>\n",
       "      <td>268476</td>\n",
       "      <td>Rebuilding a Dream Christmas (2021)</td>\n",
       "      <td>Romance</td>\n",
       "    </tr>\n",
       "  </tbody>\n",
       "</table>\n",
       "</div>"
      ],
      "text/plain": [
       "       movieId                                              title  \\\n",
       "24974   122649                          The Bates Haunting (2013)   \n",
       "35576   147402         The King and Queen of Moonlight Bay (2003)   \n",
       "46660   171849                              Without Family (1984)   \n",
       "59565   199103          Franco Escamilla: For the Anecdote (2018)   \n",
       "69952   225251                            It Feels So Good (2019)   \n",
       "79966   268054                            Time of the Gods (1992)   \n",
       "79970   268090  A Godwink Christmas: Second Chance, First Love...   \n",
       "79974   268114                               Amazed By You (2018)   \n",
       "80068   268438            Paul McCartney: Back in the U.S. (2002)   \n",
       "80077   268476                Rebuilding a Dream Christmas (2021)   \n",
       "\n",
       "               genres  \n",
       "24974        Thriller  \n",
       "35576  Children|Drama  \n",
       "46660  Children|Drama  \n",
       "59565          Comedy  \n",
       "69952           Drama  \n",
       "79966     Documentary  \n",
       "79970         Romance  \n",
       "79974        Children  \n",
       "80068     Documentary  \n",
       "80077         Romance  "
      ]
     },
     "execution_count": 12,
     "metadata": {},
     "output_type": "execute_result"
    }
   ],
   "source": [
    "# посмотрим на топ-10 популярных фильмов по среднему рейтингу\n",
    "top_movies_rating_indexes = ratings.groupby(\"movieId\").mean().sort_values(\"rating\", ascending=False).head(10).index\n",
    "top_movies_rating = movies[movies[\"movieId\"].isin(top_movies_rating_indexes)]\n",
    "top_movies_rating"
   ]
  },
  {
   "cell_type": "code",
   "execution_count": 13,
   "id": "8cd4284e-64be-4183-ba23-f0e6cef18c78",
   "metadata": {},
   "outputs": [
    {
     "data": {
      "text/html": [
       "<div>\n",
       "<style scoped>\n",
       "    .dataframe tbody tr th:only-of-type {\n",
       "        vertical-align: middle;\n",
       "    }\n",
       "\n",
       "    .dataframe tbody tr th {\n",
       "        vertical-align: top;\n",
       "    }\n",
       "\n",
       "    .dataframe thead th {\n",
       "        text-align: right;\n",
       "    }\n",
       "</style>\n",
       "<table border=\"1\" class=\"dataframe\">\n",
       "  <thead>\n",
       "    <tr style=\"text-align: right;\">\n",
       "      <th></th>\n",
       "      <th>userId</th>\n",
       "      <th>movieId</th>\n",
       "      <th>rating</th>\n",
       "      <th>timestamp</th>\n",
       "      <th>date</th>\n",
       "    </tr>\n",
       "  </thead>\n",
       "  <tbody>\n",
       "    <tr>\n",
       "      <th>0</th>\n",
       "      <td>1</td>\n",
       "      <td>17</td>\n",
       "      <td>4.0</td>\n",
       "      <td>944249077</td>\n",
       "      <td>1999-12-03 19:24:37</td>\n",
       "    </tr>\n",
       "    <tr>\n",
       "      <th>1</th>\n",
       "      <td>1</td>\n",
       "      <td>25</td>\n",
       "      <td>1.0</td>\n",
       "      <td>944250228</td>\n",
       "      <td>1999-12-03 19:43:48</td>\n",
       "    </tr>\n",
       "    <tr>\n",
       "      <th>2</th>\n",
       "      <td>1</td>\n",
       "      <td>29</td>\n",
       "      <td>2.0</td>\n",
       "      <td>943230976</td>\n",
       "      <td>1999-11-22 00:36:16</td>\n",
       "    </tr>\n",
       "    <tr>\n",
       "      <th>3</th>\n",
       "      <td>1</td>\n",
       "      <td>30</td>\n",
       "      <td>5.0</td>\n",
       "      <td>944249077</td>\n",
       "      <td>1999-12-03 19:24:37</td>\n",
       "    </tr>\n",
       "    <tr>\n",
       "      <th>4</th>\n",
       "      <td>1</td>\n",
       "      <td>32</td>\n",
       "      <td>5.0</td>\n",
       "      <td>943228858</td>\n",
       "      <td>1999-11-22 00:00:58</td>\n",
       "    </tr>\n",
       "    <tr>\n",
       "      <th>...</th>\n",
       "      <td>...</td>\n",
       "      <td>...</td>\n",
       "      <td>...</td>\n",
       "      <td>...</td>\n",
       "      <td>...</td>\n",
       "    </tr>\n",
       "    <tr>\n",
       "      <th>32000199</th>\n",
       "      <td>200948</td>\n",
       "      <td>79702</td>\n",
       "      <td>4.5</td>\n",
       "      <td>1294412589</td>\n",
       "      <td>2011-01-07 15:03:09</td>\n",
       "    </tr>\n",
       "    <tr>\n",
       "      <th>32000200</th>\n",
       "      <td>200948</td>\n",
       "      <td>79796</td>\n",
       "      <td>1.0</td>\n",
       "      <td>1287216292</td>\n",
       "      <td>2010-10-16 08:04:52</td>\n",
       "    </tr>\n",
       "    <tr>\n",
       "      <th>32000201</th>\n",
       "      <td>200948</td>\n",
       "      <td>80350</td>\n",
       "      <td>0.5</td>\n",
       "      <td>1294412671</td>\n",
       "      <td>2011-01-07 15:04:31</td>\n",
       "    </tr>\n",
       "    <tr>\n",
       "      <th>32000202</th>\n",
       "      <td>200948</td>\n",
       "      <td>80463</td>\n",
       "      <td>3.5</td>\n",
       "      <td>1350423800</td>\n",
       "      <td>2012-10-16 21:43:20</td>\n",
       "    </tr>\n",
       "    <tr>\n",
       "      <th>32000203</th>\n",
       "      <td>200948</td>\n",
       "      <td>87304</td>\n",
       "      <td>4.5</td>\n",
       "      <td>1350423523</td>\n",
       "      <td>2012-10-16 21:38:43</td>\n",
       "    </tr>\n",
       "  </tbody>\n",
       "</table>\n",
       "<p>32000204 rows × 5 columns</p>\n",
       "</div>"
      ],
      "text/plain": [
       "          userId  movieId  rating   timestamp                date\n",
       "0              1       17     4.0   944249077 1999-12-03 19:24:37\n",
       "1              1       25     1.0   944250228 1999-12-03 19:43:48\n",
       "2              1       29     2.0   943230976 1999-11-22 00:36:16\n",
       "3              1       30     5.0   944249077 1999-12-03 19:24:37\n",
       "4              1       32     5.0   943228858 1999-11-22 00:00:58\n",
       "...          ...      ...     ...         ...                 ...\n",
       "32000199  200948    79702     4.5  1294412589 2011-01-07 15:03:09\n",
       "32000200  200948    79796     1.0  1287216292 2010-10-16 08:04:52\n",
       "32000201  200948    80350     0.5  1294412671 2011-01-07 15:04:31\n",
       "32000202  200948    80463     3.5  1350423800 2012-10-16 21:43:20\n",
       "32000203  200948    87304     4.5  1350423523 2012-10-16 21:38:43\n",
       "\n",
       "[32000204 rows x 5 columns]"
      ]
     },
     "execution_count": 13,
     "metadata": {},
     "output_type": "execute_result"
    }
   ],
   "source": [
    "ratings"
   ]
  },
  {
   "cell_type": "code",
   "execution_count": 14,
   "id": "b7d5e550-8e32-4032-84b4-5c478636a9f5",
   "metadata": {},
   "outputs": [],
   "source": [
    "# удалим фильмы, у которых меньше 30 оценок\n",
    "cnt_movies = ratings[\"movieId\"].value_counts()\n",
    "no_popular_movies = cnt_movies[cnt_movies < 30].index\n",
    "ratings = ratings[~ratings[\"movieId\"].isin(no_popular_movies)]"
   ]
  },
  {
   "cell_type": "code",
   "execution_count": 15,
   "id": "eec5862a-4f6e-4920-ab86-76ac37bec560",
   "metadata": {},
   "outputs": [
    {
     "name": "stdout",
     "output_type": "stream",
     "text": [
      "Количество фильмов: 19670\n"
     ]
    }
   ],
   "source": [
    "print(\"Количество фильмов:\", len(ratings[\"movieId\"].unique()))"
   ]
  },
  {
   "cell_type": "code",
   "execution_count": 16,
   "id": "6fea3444-0363-4dea-bd92-29d97f81aa3c",
   "metadata": {},
   "outputs": [],
   "source": [
    "# разделим на train и test по временной метке\n",
    "threshold = 0.8\n",
    "time_threshold = ratings['timestamp'].quantile(threshold)\n",
    "\n",
    "train_data_1 = ratings[ratings['timestamp'] <= time_threshold]\n",
    "test_data_1 = ratings[ratings['timestamp'] > time_threshold]"
   ]
  },
  {
   "cell_type": "code",
   "execution_count": 17,
   "id": "dc65051c-cb2a-4b3e-b174-07a542792778",
   "metadata": {},
   "outputs": [],
   "source": [
    "# удалим из train пользователей, которых нет в train\n",
    "users_in_test = test_data_1[\"userId\"].unique()\n",
    "train_data_clean = train_data_1[train_data_1[\"userId\"].isin(users_in_test)]"
   ]
  },
  {
   "cell_type": "code",
   "execution_count": 18,
   "id": "02a4124f-3469-497c-9e68-e34428fdf5c7",
   "metadata": {},
   "outputs": [
    {
     "name": "stdout",
     "output_type": "stream",
     "text": [
      "Было до очистки: 25,310,168\n",
      "Стало после очистки: 3,488,951\n",
      "Разница:  21,821,217\n"
     ]
    }
   ],
   "source": [
    "print(f\"Было до очистки: {train_data_1.shape[0]:,}\")\n",
    "print(f\"Стало после очистки: {train_data_clean.shape[0]:,}\")\n",
    "print(f\"Разница: {train_data_1.shape[0] - train_data_clean.shape[0]: ,}\")"
   ]
  },
  {
   "cell_type": "code",
   "execution_count": 19,
   "id": "8cf03a3a-ce22-463c-a05c-0a0de9d8d620",
   "metadata": {},
   "outputs": [],
   "source": [
    "# получилось очень-не очень, поэтому разделим немного по-другому:\n",
    "# будем делить по временной отметки, которая будет рассчитываться для каждого пользователя"
   ]
  },
  {
   "cell_type": "code",
   "execution_count": 20,
   "id": "ebf466c4-2da6-4ef8-ac0c-6cd79a717bcf",
   "metadata": {},
   "outputs": [
    {
     "data": {
      "text/plain": [
       "userId\n",
       "175325    14050\n",
       "17035      7705\n",
       "55653      7650\n",
       "49305      7265\n",
       "123465     6996\n",
       "          ...  \n",
       "68486         8\n",
       "110480        7\n",
       "81281         7\n",
       "133045        6\n",
       "123780        6\n",
       "Name: count, Length: 200948, dtype: int64"
      ]
     },
     "execution_count": 20,
     "metadata": {},
     "output_type": "execute_result"
    }
   ],
   "source": [
    "# посмотрим сколько вообще оценок у пользователей\n",
    "ratings[\"userId\"].value_counts()"
   ]
  },
  {
   "cell_type": "code",
   "execution_count": 21,
   "id": "39bb24ef-09ac-4079-b406-700c130fd8a2",
   "metadata": {},
   "outputs": [],
   "source": [
    "# напишем функцию для деления на train и test\n",
    "# будем делить по следующим правилам:\n",
    "#     - для каждого пользователя считаем квантиль времени и все что до квантиля - train, остальное в test\n",
    "#     - в test для каждого пользователя хотя бы 100 оценок\n",
    "def my_split(df, test_size=0.2, min_test_ratings=100):\n",
    "\n",
    "    df_sorted = df.sort_values(['userId', 'timestamp']).reset_index(drop=True)\n",
    "    \n",
    "    user_groups = df_sorted.groupby('userId')\n",
    "    user_indices = {user_id: group.index for user_id, group in user_groups}\n",
    "    \n",
    "    train_indices = []\n",
    "    test_indices = []\n",
    "    user_stats = []\n",
    "    \n",
    "    for user_id, indices in tqdm(user_indices.items(), desc=\"Processing users\"):\n",
    "        user_ratings = df_sorted.loc[indices]\n",
    "        n_ratings = len(user_ratings)\n",
    "        \n",
    "        if n_ratings < min_test_ratings + 1:\n",
    "            continue\n",
    "        \n",
    "        timestamps = user_ratings['timestamp'].values\n",
    "        time_quantile = np.quantile(timestamps, 1 - test_size)\n",
    "        \n",
    "        test_mask = timestamps > time_quantile\n",
    "        n_test = test_mask.sum()\n",
    "        \n",
    "        if n_test >= min_test_ratings:\n",
    "            train_indices.extend(indices[~test_mask])\n",
    "            test_indices.extend(indices[test_mask])\n",
    "            method = 'quantile'\n",
    "            n_train = n_ratings - n_test\n",
    "        else:\n",
    "            continue\n",
    "        \n",
    "        user_stats.append({\n",
    "            'userId': user_id,\n",
    "            'total_ratings': n_ratings,\n",
    "            'train_ratings': n_train,\n",
    "            'test_ratings': n_test,\n",
    "            'method': method\n",
    "        })\n",
    "    \n",
    "    train_data = df_sorted.loc[train_indices].reset_index(drop=True)\n",
    "    test_data = df_sorted.loc[test_indices].reset_index(drop=True)\n",
    "    \n",
    "    test_counts = test_data.groupby('userId').size()\n",
    "    print(f\"Пользователей в test: {len(test_counts):,}\")\n",
    "    \n",
    "    return train_data, test_data, pd.DataFrame(user_stats)\n",
    "        "
   ]
  },
  {
   "cell_type": "code",
   "execution_count": 22,
   "id": "f88b14fa-33ac-44d3-a974-76987bd1cc4a",
   "metadata": {},
   "outputs": [
    {
     "name": "stderr",
     "output_type": "stream",
     "text": [
      "Processing users: 100%|███████████████| 200948/200948 [00:30<00:00, 6690.66it/s]\n"
     ]
    },
    {
     "name": "stdout",
     "output_type": "stream",
     "text": [
      "Пользователей в test: 12,405\n"
     ]
    }
   ],
   "source": [
    "df_train, df_test, u_s = my_split(ratings)"
   ]
  },
  {
   "cell_type": "code",
   "execution_count": 23,
   "id": "6839f7c8-353a-4628-b76d-91ddd8dc1d1c",
   "metadata": {},
   "outputs": [
    {
     "name": "stdout",
     "output_type": "stream",
     "text": [
      "Строк в train: 9,228,570\n",
      "Строк в test: 2,289,657\n"
     ]
    }
   ],
   "source": [
    "dim_train = df_train.shape[0]\n",
    "dim_test = df_test.shape[0]\n",
    "print(f\"Строк в train: {dim_train:,}\")\n",
    "print(f\"Строк в test: {dim_test:,}\")"
   ]
  },
  {
   "cell_type": "code",
   "execution_count": 24,
   "id": "61718ba8-59c3-4ee5-b95b-3b6e96e7fef6",
   "metadata": {},
   "outputs": [],
   "source": [
    "# напишем метрики\n",
    "def precision_at_k(recommendations, test_data, k=50):\n",
    "    \"\"\"\n",
    "    Precision@K\n",
    "    \"\"\"\n",
    "    precisions = []\n",
    "    \n",
    "    for user_id, (pred_items, pred_scores) in recommendations.items():\n",
    "\n",
    "        user_test = test_data[test_data['userId'] == user_id]\n",
    "        relevant_items = set(user_test[user_test['rating'] >= 3.0]['movieId'])\n",
    "        \n",
    "        top_k_items = set(pred_items[:k])\n",
    "        \n",
    "        if len(top_k_items) > 0:\n",
    "            precision = len(top_k_items & relevant_items) / len(top_k_items)\n",
    "            precisions.append(precision)\n",
    "    \n",
    "    return np.mean(precisions) if precisions else 0\n",
    "\n",
    "def map_at_k(recommendations, test_data, k=50):\n",
    "    \"\"\"\n",
    "    MAP@K\n",
    "    \"\"\"\n",
    "    average_precisions = []\n",
    "    \n",
    "    for user_id, (pred_items, pred_scores) in recommendations.items():\n",
    "\n",
    "        user_test = test_data[test_data['userId'] == user_id]\n",
    "        relevant_items = set(user_test[user_test['rating'] >= 3.0]['movieId'])\n",
    "        \n",
    "        top_k_items = pred_items[:k]\n",
    "        \n",
    "        precision_at_n = []\n",
    "        hits = 0\n",
    "        \n",
    "        for n, item in enumerate(top_k_items, 1):\n",
    "            if item in relevant_items:\n",
    "                hits += 1\n",
    "                precision_at_n.append(hits / n)\n",
    "        \n",
    "        if len(relevant_items) > 0:\n",
    "            ap = sum(precision_at_n) / min(len(relevant_items), k)\n",
    "            average_precisions.append(ap)\n",
    "        else:\n",
    "            average_precisions.append(0.0)\n",
    "    \n",
    "    return np.mean(average_precisions) if average_precisions else 0.0\n",
    "def ndcg_at_k(recommendations, test_data, k=50):\n",
    "    \"\"\"\n",
    "     NDCG@K\n",
    "    \"\"\"\n",
    "    ndcg_scores = []\n",
    "    \n",
    "    for user_id, (pred_items, pred_scores) in recommendations.items():\n",
    "        user_test = test_data[test_data['userId'] == user_id]\n",
    "        true_ratings_dict = user_test.set_index('movieId')['rating'].to_dict()\n",
    "        \n",
    "        top_k_items = pred_items[:k]\n",
    "        \n",
    "        dcg = 0.0\n",
    "        for i, movie_id in enumerate(top_k_items):\n",
    "            true_rating = true_ratings_dict.get(movie_id, 0)\n",
    "            discount = np.log2(i + 2)\n",
    "            dcg += (2 ** true_rating - 1) / discount\n",
    "        \n",
    "        user_true_ratings = [true_ratings_dict.get(mid, 0) for mid in top_k_items]\n",
    "        ideal_ratings = sorted(user_true_ratings, reverse=True)\n",
    "        \n",
    "        idcg = 0.0\n",
    "        for i, rating in enumerate(ideal_ratings):\n",
    "            discount = np.log2(i + 2)\n",
    "            idcg += (2 ** rating - 1) / discount\n",
    "\n",
    "        if idcg > 0:\n",
    "            ndcg_scores.append(dcg / idcg)\n",
    "    \n",
    "    return np.mean(ndcg_scores) if ndcg_scores else 0.0"
   ]
  },
  {
   "cell_type": "code",
   "execution_count": 25,
   "id": "1f8e851b-971d-4847-81bc-69fee9cacad0",
   "metadata": {},
   "outputs": [],
   "source": [
    "# baseline model\n",
    "\n",
    "class BaselinePopularRecommender:\n",
    "    def __init__(self):\n",
    "        self.popular_movies = None\n",
    "\n",
    "    def recommended(self, df, top_k=50):\n",
    "        if self.popular_movies is not None:\n",
    "            return self.popular_movies\n",
    "\n",
    "        self.popular_movies = (\n",
    "            df.groupby(\"movieId\").count().sort_values(\n",
    "                \"rating\", ascending=False).head(top_k).index)\n",
    "        \n",
    "        return self.popular_movies, [5.0 for _ in range(len(self.popular_movies))]"
   ]
  },
  {
   "cell_type": "code",
   "execution_count": 26,
   "id": "d797cf12-7a27-4d94-8d40-1ce7231ac912",
   "metadata": {},
   "outputs": [
    {
     "data": {
      "text/plain": [
       "Index([2571,  356,  296,  593,  318,  480,  260, 1270, 1196, 1580, 4993, 1198,\n",
       "       2959, 2762,    1, 1210, 3578, 2858,  589, 1265,   47, 4306, 2028, 1682,\n",
       "       5952, 1240,  780,   50,  110, 1036,  608, 2716,  858, 7153, 1704, 4226,\n",
       "       1721, 3793, 1291, 1214, 5349, 1527, 1097, 2628, 6539,  527,   32,  541,\n",
       "       1089, 4963],\n",
       "      dtype='int64', name='movieId')"
      ]
     },
     "execution_count": 26,
     "metadata": {},
     "output_type": "execute_result"
    }
   ],
   "source": [
    "popular_model = BaselinePopularRecommender()\n",
    "popular_movies = popular_model.recommended(df_train)\n",
    "popular_movies[0]"
   ]
  },
  {
   "cell_type": "code",
   "execution_count": 27,
   "id": "d32340ed-95c7-41d6-9f05-a3af1227214c",
   "metadata": {},
   "outputs": [],
   "source": [
    "prediction_popular_movies = {user_id: popular_movies for user_id in df_test[\"userId\"].unique()}"
   ]
  },
  {
   "cell_type": "code",
   "execution_count": 28,
   "id": "2f0d4e89-cb48-4ff0-9baf-6369e213005d",
   "metadata": {},
   "outputs": [],
   "source": [
    "precision_baseline = precision_at_k(prediction_popular_movies, df_test)\n",
    "map_baseline = map_at_k(prediction_popular_movies, df_test)"
   ]
  },
  {
   "cell_type": "code",
   "execution_count": 29,
   "id": "761da752-5050-4995-8622-2a3839201a5d",
   "metadata": {},
   "outputs": [
    {
     "name": "stdout",
     "output_type": "stream",
     "text": [
      "Precision@50 для baseline модели: 0.054695687222893995\n",
      "MAP@50 для baseline модели: 0.010582735910267864\n"
     ]
    }
   ],
   "source": [
    "print(f\"Precision@50 для baseline модели: {precision_baseline}\")\n",
    "print(f\"MAP@50 для baseline модели: {map_baseline}\")"
   ]
  },
  {
   "cell_type": "markdown",
   "id": "0a42f0ec-1288-4f8a-bf68-58c7b6ae180b",
   "metadata": {},
   "source": [
    "#### User-based подход"
   ]
  },
  {
   "cell_type": "code",
   "execution_count": 30,
   "id": "1f5f9f31-b4f7-4511-a667-573e2e928bea",
   "metadata": {},
   "outputs": [],
   "source": [
    "class UserBasedRecommender:\n",
    "    def __init__(self):\n",
    "        self.sparse_matrix = None\n",
    "        self.user_to_idx = None\n",
    "        self.movie_to_idx = None\n",
    "        self.idx_to_user = None\n",
    "        self.idx_to_movie = None\n",
    "        self.user_similarity = None\n",
    "\n",
    "    def create_sparse_matrix(self, df: pd.DataFrame):\n",
    "        user_ids = df[\"userId\"].unique()\n",
    "        movie_ids = df[\"movieId\"].unique()\n",
    "\n",
    "        self.user_to_idx = {user_id: idx for idx, user_id in enumerate(user_ids)}\n",
    "        self.movie_to_idx = {movie_id: idx for idx, movie_id in enumerate(movie_ids)}\n",
    "\n",
    "        self.idx_to_user = {idx: user_id for user_id, idx in self.user_to_idx.items()}\n",
    "        self.idx_to_movie = {idx: movie_id for movie_id, idx in self.movie_to_idx.items()}\n",
    "\n",
    "        rows = df[\"userId\"].map(self.user_to_idx)\n",
    "        cols = df[\"movieId\"].map(self.movie_to_idx)\n",
    "        ratings = df[\"rating\"].values\n",
    "\n",
    "        self.sparse_matrix = csr_matrix(\n",
    "            (ratings, (rows, cols)),\n",
    "            shape=(len(user_ids), len(movie_ids))\n",
    "        )\n",
    "        return self.sparse_matrix\n",
    "\n",
    "    def calc_users_similarities(self):\n",
    "        assert self.sparse_matrix is not None, (\"Сначала нужно создатль матрицу\")\n",
    "        self.user_similarity = cosine_similarity(self.sparse_matrix)\n",
    "        return self.user_similarity\n",
    "\n",
    "    def recommend_for_user_idx(self, user_id, top_k=30, n_similar=20):\n",
    "        \"\"\"\n",
    "        Рекомендации по индексу пользователя\n",
    "        \"\"\"\n",
    "        assert self.sparse_matrix is not None, \"Сначала нужно создать матрицу\"\n",
    "\n",
    "        user_idx = self.user_to_idx[user_id]\n",
    "        user_sims = self.user_similarity[user_idx]\n",
    "        similar_users_idx = np.argsort(user_sims)[::-1][1:n_similar + 1]\n",
    "        similar_users_sims = user_sims[similar_users_idx]\n",
    "\n",
    "        similar_users_ratings = self.sparse_matrix[similar_users_idx]\n",
    "        weighted_ratings = similar_users_sims @ similar_users_ratings\n",
    "        sum_similarities = np.abs(similar_users_sims).sum()\n",
    "\n",
    "        predicted_scores = weighted_ratings / sum_similarities if sum_similarities > 0 else np.zeros(\n",
    "            self.sparse_matrix.shape[1])\n",
    "\n",
    "        user_ratings = self.sparse_matrix[user_idx]\n",
    "        watched_movies_idx = user_ratings.nonzero()[1]\n",
    "        predicted_scores[watched_movies_idx] = -np.inf\n",
    "        top_items_idx = np.argsort(predicted_scores)[::-1][:top_k]\n",
    "        top_scores = predicted_scores[top_items_idx]\n",
    "        \n",
    "        top_movie_ids = [self.idx_to_movie[idx] for idx in top_items_idx]\n",
    "\n",
    "        return top_movie_ids, top_scores\n",
    "\n",
    "    def recommend(self, user_ids, top_k=30, n_similar=50, verbose=True):\n",
    "        assert self.user_similarity is not None, \"Сначала нужно создать матрицу\"\n",
    "        recommendations = {}\n",
    "        for user_id in user_ids:\n",
    "            top_movie_ids, top_scores = self.recommend_for_user_idx(\n",
    "                user_id, top_k, n_similar\n",
    "            )\n",
    "            recommendations[user_id] = (top_movie_ids, top_scores)\n",
    "        return recommendations\n"
   ]
  },
  {
   "cell_type": "code",
   "execution_count": 31,
   "id": "a0f7da5d-49ad-4954-bda8-d0b792c02d4d",
   "metadata": {},
   "outputs": [
    {
     "data": {
      "text/plain": [
       "array([[1.        , 0.32433658, 0.24178668, ..., 0.41733328, 0.36534259,\n",
       "        0.30300494],\n",
       "       [0.32433658, 1.        , 0.2545661 , ..., 0.31400357, 0.3606395 ,\n",
       "        0.36033966],\n",
       "       [0.24178668, 0.2545661 , 1.        , ..., 0.25995503, 0.28906809,\n",
       "        0.22669355],\n",
       "       ...,\n",
       "       [0.41733328, 0.31400357, 0.25995503, ..., 1.        , 0.35282658,\n",
       "        0.23464577],\n",
       "       [0.36534259, 0.3606395 , 0.28906809, ..., 0.35282658, 1.        ,\n",
       "        0.31533319],\n",
       "       [0.30300494, 0.36033966, 0.22669355, ..., 0.23464577, 0.31533319,\n",
       "        1.        ]])"
      ]
     },
     "execution_count": 31,
     "metadata": {},
     "output_type": "execute_result"
    }
   ],
   "source": [
    "# обучим наш класс\n",
    "rec = UserBasedRecommender()\n",
    "rec.create_sparse_matrix(df_train)\n",
    "rec.calc_users_similarities()"
   ]
  },
  {
   "cell_type": "code",
   "execution_count": 32,
   "id": "46beac0f-cf3d-4638-90b3-2d32c3050cba",
   "metadata": {},
   "outputs": [
    {
     "data": {
      "text/html": [
       "<div>\n",
       "<style scoped>\n",
       "    .dataframe tbody tr th:only-of-type {\n",
       "        vertical-align: middle;\n",
       "    }\n",
       "\n",
       "    .dataframe tbody tr th {\n",
       "        vertical-align: top;\n",
       "    }\n",
       "\n",
       "    .dataframe thead th {\n",
       "        text-align: right;\n",
       "    }\n",
       "</style>\n",
       "<table border=\"1\" class=\"dataframe\">\n",
       "  <thead>\n",
       "    <tr style=\"text-align: right;\">\n",
       "      <th></th>\n",
       "      <th>userId</th>\n",
       "      <th>movieId</th>\n",
       "      <th>rating</th>\n",
       "      <th>timestamp</th>\n",
       "      <th>date</th>\n",
       "    </tr>\n",
       "  </thead>\n",
       "  <tbody>\n",
       "    <tr>\n",
       "      <th>0</th>\n",
       "      <td>10</td>\n",
       "      <td>76251</td>\n",
       "      <td>4.0</td>\n",
       "      <td>1272714819</td>\n",
       "      <td>2010-05-01 11:53:39</td>\n",
       "    </tr>\n",
       "    <tr>\n",
       "      <th>1</th>\n",
       "      <td>10</td>\n",
       "      <td>77561</td>\n",
       "      <td>3.0</td>\n",
       "      <td>1273642076</td>\n",
       "      <td>2010-05-12 05:27:56</td>\n",
       "    </tr>\n",
       "    <tr>\n",
       "      <th>2</th>\n",
       "      <td>10</td>\n",
       "      <td>74789</td>\n",
       "      <td>2.5</td>\n",
       "      <td>1274608709</td>\n",
       "      <td>2010-05-23 09:58:29</td>\n",
       "    </tr>\n",
       "    <tr>\n",
       "      <th>3</th>\n",
       "      <td>10</td>\n",
       "      <td>77866</td>\n",
       "      <td>2.0</td>\n",
       "      <td>1275644192</td>\n",
       "      <td>2010-06-04 09:36:32</td>\n",
       "    </tr>\n",
       "    <tr>\n",
       "      <th>4</th>\n",
       "      <td>10</td>\n",
       "      <td>79139</td>\n",
       "      <td>2.5</td>\n",
       "      <td>1280754084</td>\n",
       "      <td>2010-08-02 13:01:24</td>\n",
       "    </tr>\n",
       "    <tr>\n",
       "      <th>...</th>\n",
       "      <td>...</td>\n",
       "      <td>...</td>\n",
       "      <td>...</td>\n",
       "      <td>...</td>\n",
       "      <td>...</td>\n",
       "    </tr>\n",
       "    <tr>\n",
       "      <th>2289652</th>\n",
       "      <td>200943</td>\n",
       "      <td>135567</td>\n",
       "      <td>1.0</td>\n",
       "      <td>1494478245</td>\n",
       "      <td>2017-05-11 04:50:45</td>\n",
       "    </tr>\n",
       "    <tr>\n",
       "      <th>2289653</th>\n",
       "      <td>200943</td>\n",
       "      <td>27482</td>\n",
       "      <td>1.5</td>\n",
       "      <td>1494478348</td>\n",
       "      <td>2017-05-11 04:52:28</td>\n",
       "    </tr>\n",
       "    <tr>\n",
       "      <th>2289654</th>\n",
       "      <td>200943</td>\n",
       "      <td>55274</td>\n",
       "      <td>4.0</td>\n",
       "      <td>1494478357</td>\n",
       "      <td>2017-05-11 04:52:37</td>\n",
       "    </tr>\n",
       "    <tr>\n",
       "      <th>2289655</th>\n",
       "      <td>200943</td>\n",
       "      <td>66198</td>\n",
       "      <td>4.0</td>\n",
       "      <td>1494478417</td>\n",
       "      <td>2017-05-11 04:53:37</td>\n",
       "    </tr>\n",
       "    <tr>\n",
       "      <th>2289656</th>\n",
       "      <td>200943</td>\n",
       "      <td>45062</td>\n",
       "      <td>2.0</td>\n",
       "      <td>1494478437</td>\n",
       "      <td>2017-05-11 04:53:57</td>\n",
       "    </tr>\n",
       "  </tbody>\n",
       "</table>\n",
       "<p>2289657 rows × 5 columns</p>\n",
       "</div>"
      ],
      "text/plain": [
       "         userId  movieId  rating   timestamp                date\n",
       "0            10    76251     4.0  1272714819 2010-05-01 11:53:39\n",
       "1            10    77561     3.0  1273642076 2010-05-12 05:27:56\n",
       "2            10    74789     2.5  1274608709 2010-05-23 09:58:29\n",
       "3            10    77866     2.0  1275644192 2010-06-04 09:36:32\n",
       "4            10    79139     2.5  1280754084 2010-08-02 13:01:24\n",
       "...         ...      ...     ...         ...                 ...\n",
       "2289652  200943   135567     1.0  1494478245 2017-05-11 04:50:45\n",
       "2289653  200943    27482     1.5  1494478348 2017-05-11 04:52:28\n",
       "2289654  200943    55274     4.0  1494478357 2017-05-11 04:52:37\n",
       "2289655  200943    66198     4.0  1494478417 2017-05-11 04:53:37\n",
       "2289656  200943    45062     2.0  1494478437 2017-05-11 04:53:57\n",
       "\n",
       "[2289657 rows x 5 columns]"
      ]
     },
     "execution_count": 32,
     "metadata": {},
     "output_type": "execute_result"
    }
   ],
   "source": [
    "df_test"
   ]
  },
  {
   "cell_type": "code",
   "execution_count": 33,
   "id": "41ae36e5-2fad-4478-829f-c2ade2c78898",
   "metadata": {},
   "outputs": [
    {
     "data": {
      "text/plain": [
       "([110,\n",
       "  2028,\n",
       "  296,\n",
       "  1617,\n",
       "  4226,\n",
       "  953,\n",
       "  1222,\n",
       "  1625,\n",
       "  6539,\n",
       "  5989,\n",
       "  2115,\n",
       "  3147,\n",
       "  1258,\n",
       "  6377,\n",
       "  4995,\n",
       "  8874,\n",
       "  2791,\n",
       "  1923,\n",
       "  4011,\n",
       "  597,\n",
       "  48780,\n",
       "  1721,\n",
       "  587,\n",
       "  1393,\n",
       "  1275,\n",
       "  527,\n",
       "  1089,\n",
       "  1259,\n",
       "  1968,\n",
       "  474],\n",
       " array([4.19890367, 4.17704569, 4.12358779, 3.94889648, 3.84442216,\n",
       "        3.72579962, 3.65294934, 3.63107975, 3.60513853, 3.59889119,\n",
       "        3.57590444, 3.541726  , 3.52202592, 3.48318907, 3.46065952,\n",
       "        3.45990739, 3.45653798, 3.42869373, 3.42271648, 3.40086861,\n",
       "        3.38094408, 3.37946807, 3.37331984, 3.35480608, 3.3404864 ,\n",
       "        3.32188261, 3.28202708, 3.27490919, 3.23074595, 3.22563386]))"
      ]
     },
     "execution_count": 33,
     "metadata": {},
     "output_type": "execute_result"
    }
   ],
   "source": [
    "# сделаем предсказание для однго пользователя из теста\n",
    "rec.recommend_for_user_idx(200943)"
   ]
  },
  {
   "cell_type": "code",
   "execution_count": 34,
   "id": "10a2e0be-9b6f-448e-8666-62055cb2b6f9",
   "metadata": {},
   "outputs": [],
   "source": [
    "# сделаем предсказание для всего теста\n",
    "user_based_recommendations = rec.recommend(df_test['userId'].unique())"
   ]
  },
  {
   "cell_type": "code",
   "execution_count": 36,
   "id": "131182ce-5069-4a19-86a5-04ca1ebca28d",
   "metadata": {},
   "outputs": [],
   "source": [
    "# посчитаем метрики\n",
    "precision_user_based_model = precision_at_k(user_based_recommendations, df_test)\n",
    "map_user_based_model = map_at_k(user_based_recommendations, df_test)\n",
    "ndcg_user_based_model = ndcg_at_k(user_based_recommendations, df_test)"
   ]
  },
  {
   "cell_type": "code",
   "execution_count": 37,
   "id": "22ddf816-bf3a-4dc3-a0b1-9b0cad65cd77",
   "metadata": {},
   "outputs": [
    {
     "name": "stdout",
     "output_type": "stream",
     "text": [
      "Precision@50 для User-based подхода: 0.24775493752519145\n",
      "MAP@50 для User-based подхода: 0.08194926734576582\n",
      "NDCG@50 для User-based подхода: 0.6050833309979654\n"
     ]
    }
   ],
   "source": [
    "print(f\"Precision@50 для User-based подхода: {precision_user_based_model}\")\n",
    "print(f\"MAP@50 для User-based подхода: {map_user_based_model}\")\n",
    "print(f\"NDCG@50 для User-based подхода: {ndcg_user_based_model}\")"
   ]
  },
  {
   "cell_type": "markdown",
   "id": "3739d10d-af3e-4f2c-8f74-e0ff1faa235a",
   "metadata": {},
   "source": [
    "#### Item-based подход"
   ]
  },
  {
   "cell_type": "code",
   "execution_count": 38,
   "id": "72d02383-4123-40dc-a8c8-fd84f9e3409a",
   "metadata": {},
   "outputs": [],
   "source": [
    "class ItemBasedRecommender:\n",
    "    def __init__(self, n_similar_items=50):\n",
    "        self.sparse_matrix = None\n",
    "        self.user_to_idx = None\n",
    "        self.movie_to_idx = None\n",
    "        self.idx_to_user = None\n",
    "        self.idx_to_movie = None\n",
    "        self.item_similarity = None\n",
    "        self.n_similar_items = n_similar_items\n",
    "\n",
    "    def create_sparse_matrix(self, df, n_items=1000):\n",
    "\n",
    "        popular_movies = df['movieId'].value_counts().head(n_items).index\n",
    "        df_filtered = df[df['movieId'].isin(popular_movies)]\n",
    "        \n",
    "        user_ids = df_filtered[\"userId\"].unique()\n",
    "        movie_ids = df_filtered[\"movieId\"].unique()\n",
    "\n",
    "        self.user_to_idx = {user_id: idx for idx, user_id in enumerate(user_ids)}\n",
    "        self.movie_to_idx = {movie_id: idx for idx, movie_id in enumerate(movie_ids)}\n",
    "        self.idx_to_user = {idx: user_id for user_id, idx in self.user_to_idx.items()}\n",
    "        self.idx_to_movie = {idx: movie_id for movie_id, idx in self.movie_to_idx.items()}\n",
    "\n",
    "        rows = df_filtered[\"userId\"].map(self.user_to_idx)\n",
    "        cols = df_filtered[\"movieId\"].map(self.movie_to_idx)\n",
    "        ratings = df_filtered[\"rating\"].values\n",
    "\n",
    "        self.sparse_matrix = csr_matrix(\n",
    "            (ratings, (rows, cols)),\n",
    "            shape=(len(user_ids), len(movie_ids))\n",
    "        )\n",
    "        return self.sparse_matrix\n",
    "\n",
    "    def calc_items_similarities(self):\n",
    "        assert self.sparse_matrix is not None, \"Сначала нужно создать матрицу\"\n",
    "    \n",
    "        n_items = self.sparse_matrix.shape[1]\n",
    "        self.item_similarity_topk = {}\n",
    "        \n",
    "        for item_idx in tqdm(range(n_items)):\n",
    "            item_vector = self.sparse_matrix[:, item_idx].T\n",
    "            similarities = cosine_similarity(item_vector, self.sparse_matrix.T)[0]\n",
    "            \n",
    "            top_indices = np.argsort(similarities)[::-1][1:self.n_similar_items+1]\n",
    "            top_similarities = similarities[top_indices]\n",
    "            \n",
    "            self.item_similarity_topk[item_idx] = (top_indices, top_similarities)\n",
    "        \n",
    "        return self.item_similarity_topk\n",
    "\n",
    "    def recommend_for_user(self, user_id, top_k=50):\n",
    "        if user_id not in self.user_to_idx:\n",
    "            return np.array([]), np.array([])\n",
    "\n",
    "        user_idx = self.user_to_idx[user_id]\n",
    "        user_ratings = self.sparse_matrix[user_idx]\n",
    "        rated_items_idx = user_ratings.nonzero()[1]\n",
    "        \n",
    "        if len(rated_items_idx) == 0:\n",
    "            return np.array([]), np.array([])\n",
    "\n",
    "        predictions = {}\n",
    "\n",
    "        for rated_item_idx in rated_items_idx:\n",
    "            if rated_item_idx not in self.item_similarity_topk:\n",
    "                continue\n",
    "                \n",
    "            similar_items_idx, similarities = self.item_similarity_topk[rated_item_idx]\n",
    "            user_rating = user_ratings[0, rated_item_idx]\n",
    "            \n",
    "            for sim_item_idx, similarity in zip(similar_items_idx, similarities):\n",
    "                if sim_item_idx in rated_items_idx: \n",
    "                    continue\n",
    "                    \n",
    "                if sim_item_idx not in predictions:\n",
    "                    predictions[sim_item_idx] = (0.0, 0.0)\n",
    "                \n",
    "                weighted_sum, sum_weights = predictions[sim_item_idx]\n",
    "                weighted_sum += similarity * user_rating\n",
    "                sum_weights += abs(similarity)\n",
    "                predictions[sim_item_idx] = (weighted_sum, sum_weights)\n",
    "        \n",
    "        final_predictions = []\n",
    "        for item_idx, (weighted_sum, sum_weights) in predictions.items():\n",
    "            if sum_weights > 0:\n",
    "                predicted_score = weighted_sum / sum_weights\n",
    "                movie_id = self.idx_to_movie[item_idx]\n",
    "                final_predictions.append((movie_id, predicted_score))\n",
    "        \n",
    "        final_predictions.sort(key=lambda x: x[1], reverse=True)\n",
    "        items = np.array([x[0] for x in final_predictions[:top_k]])\n",
    "        scores = np.array([x[1] for x in final_predictions[:top_k]])\n",
    "        \n",
    "        return items, scores\n",
    "\n",
    "    def recommend(self, user_ids, top_k=50):\n",
    "        recommendations = {}\n",
    "        user_ids_sample = list(user_ids)\n",
    "        \n",
    "        for i, user_id in enumerate(user_ids_sample):\n",
    "                \n",
    "            items, scores = self.recommend_for_user(user_id, top_k)\n",
    "            recommendations[user_id] = (items, scores)\n",
    "            \n",
    "        return recommendations"
   ]
  },
  {
   "cell_type": "code",
   "execution_count": 40,
   "id": "e65d839c-21b6-4304-86bb-7668bb1355ae",
   "metadata": {},
   "outputs": [
    {
     "name": "stderr",
     "output_type": "stream",
     "text": [
      "100%|███████████████████████████████████████| 1000/1000 [00:48<00:00, 20.72it/s]\n"
     ]
    }
   ],
   "source": [
    "item_model = ItemBasedRecommender()\n",
    "item_model.create_sparse_matrix(df_train)\n",
    "item_model.calc_items_similarities()\n",
    "item_recommendations = item_model.recommend(df_test['userId'].unique())\n",
    "\n",
    "precision_item = precision_at_k(item_recommendations, df_test)\n",
    "map_item = map_at_k(item_recommendations, df_test)\n",
    "ndcg_user_item = ndcg_at_k(item_recommendations, df_test)"
   ]
  },
  {
   "cell_type": "code",
   "execution_count": 41,
   "id": "d6ac5f90-22f1-43c7-bc30-1f5b5417603d",
   "metadata": {},
   "outputs": [
    {
     "name": "stdout",
     "output_type": "stream",
     "text": [
      "Precision@50 для Item-based подхода: 0.1320228179548794\n",
      "MAP@50 для Item-based подхода: 0.03647717173299491\n",
      "NDCG@50 для Item-based подхода: 0.4164661741459025\n"
     ]
    }
   ],
   "source": [
    "print(f\"Precision@50 для Item-based подхода: {precision_item}\")\n",
    "print(f\"MAP@50 для Item-based подхода: {map_item}\")\n",
    "print(f\"NDCG@50 для Item-based подхода: {ndcg_user_item}\")"
   ]
  },
  {
   "cell_type": "markdown",
   "id": "39c481c7-d910-40b9-ada7-602f7ec56087",
   "metadata": {},
   "source": [
    "#### SVD"
   ]
  },
  {
   "cell_type": "code",
   "execution_count": 42,
   "id": "f4a6cb7e-4590-4599-9a67-9942c7f3b2ca",
   "metadata": {},
   "outputs": [],
   "source": [
    "class SVDRecommender:\n",
    "    def __init__(self, n_factors=100, n_epochs=20, lr_all=0.005, reg_all=0.02, \n",
    "                 min_ratings=10, max_items=100):\n",
    "        self.algo = SVD(n_factors=n_factors, n_epochs=n_epochs, \n",
    "                       lr_all=lr_all, reg_all=reg_all, random_state=42)\n",
    "        self.trainset = None\n",
    "        self.min_ratings = min_ratings\n",
    "        self.max_items = max_items\n",
    "        self.popular_movies = None\n",
    "        \n",
    "    def filter_data(self, df):\n",
    "        movie_counts = df['movieId'].value_counts()\n",
    "        \n",
    "        self.popular_movies = movie_counts.head(self.max_items).index\n",
    "        df_filtered = df[df['movieId'].isin(self.popular_movies)]\n",
    "                \n",
    "        return df_filtered\n",
    "        \n",
    "    def fit(self, df_train):\n",
    "        df_filtered = self.filter_data(df_train)\n",
    "        \n",
    "        reader = Reader(rating_scale=(1, 5))\n",
    "        data = Dataset.load_from_df(df_filtered[['userId', 'movieId', 'rating']], reader)\n",
    "        \n",
    "        self.trainset = data.build_full_trainset()\n",
    "        self.algo.fit(self.trainset)\n",
    "        \n",
    "        return self\n",
    "    \n",
    "    def recommend_for_user(self, user_id, top_k=50):\n",
    "        user_inner_id = None\n",
    "        try:\n",
    "            user_inner_id = self.trainset.to_inner_uid(user_id)\n",
    "        except ValueError:\n",
    "            return np.array([]), np.array([])\n",
    "        user_ratings = self.trainset.ur[user_inner_id]\n",
    "        rated_items = {rating[0] for rating in user_ratings}\n",
    "        \n",
    "        predictions = []\n",
    "        for item_inner_id in range(self.trainset.n_items):\n",
    "            if item_inner_id not in rated_items:\n",
    "                user_bias = self.algo.bu[user_inner_id]\n",
    "                item_bias = self.algo.bi[item_inner_id]\n",
    "                user_factors = self.algo.pu[user_inner_id]\n",
    "                item_factors = self.algo.qi[item_inner_id]\n",
    "                \n",
    "                est = self.trainset.global_mean + user_bias + item_bias + np.dot(user_factors, item_factors)\n",
    "                item_raw_id = self.trainset.to_raw_iid(item_inner_id)\n",
    "                predictions.append((item_raw_id, est))\n",
    "        \n",
    "        predictions.sort(key=lambda x: x[1], reverse=True)\n",
    "        items = np.array([x[0] for x in predictions[:top_k]])\n",
    "        scores = np.array([x[1] for x in predictions[:top_k]])\n",
    "        \n",
    "        return items, scores\n",
    "    \n",
    "    def recommend(self, user_ids, top_k=50):\n",
    "        recommendations = {}\n",
    "        \n",
    "        for user_id in tqdm(user_ids):\n",
    "            items, scores = self.recommend_for_user(user_id, top_k)\n",
    "            recommendations[user_id] = (items, scores)\n",
    "            \n",
    "        return recommendations"
   ]
  },
  {
   "cell_type": "code",
   "execution_count": 43,
   "id": "6cee94f0-167e-4678-b73c-f3fac54dd379",
   "metadata": {},
   "outputs": [
    {
     "name": "stderr",
     "output_type": "stream",
     "text": [
      "100%|██████████████████████████████████| 12405/12405 [00:00<00:00, 27335.70it/s]\n"
     ]
    }
   ],
   "source": [
    "svd_recommender = SVDRecommender(\n",
    "    n_factors=300,\n",
    "    n_epochs=100,\n",
    "    lr_all=0.01,\n",
    "    reg_all=0.02,\n",
    "    )\n",
    "    \n",
    "svd_recommender.fit(df_train)\n",
    "recommendations_svd = svd_recommender.recommend(df_test['userId'].unique(), top_k=50)\n",
    "\n",
    "precision_svd = precision_at_k(recommendations_svd, df_test, k=50)\n",
    "map_svd = map_at_k(recommendations_svd, df_test, k=50)\n",
    "ndcg_svd = ndcg_at_k(recommendations_svd, df_test, k=50)"
   ]
  },
  {
   "cell_type": "code",
   "execution_count": 44,
   "id": "0749680a-44aa-4394-8441-50a8c53852ee",
   "metadata": {},
   "outputs": [
    {
     "name": "stdout",
     "output_type": "stream",
     "text": [
      "Precision@50 SVD: 0.2037\n",
      "MAP@50 SVD: 0.0562\n",
      "NDCG@50 SVD: 0.5969\n"
     ]
    }
   ],
   "source": [
    "print(f\"Precision@50 SVD: {precision_svd:.4f}\")\n",
    "print(f\"MAP@50 SVD: {map_svd:.4f}\")\n",
    "print(f\"NDCG@50 SVD: {ndcg_svd:.4f}\")"
   ]
  },
  {
   "cell_type": "markdown",
   "id": "355a9a0d-ad1a-4a13-b28e-5a09af31427f",
   "metadata": {},
   "source": [
    "#### Модель с использованием кластеризации"
   ]
  },
  {
   "cell_type": "code",
   "execution_count": 45,
   "id": "27d5afe0-f771-4b1f-89ed-5f0693720ee1",
   "metadata": {},
   "outputs": [],
   "source": [
    "from sklearn.cluster import KMeans"
   ]
  },
  {
   "cell_type": "code",
   "execution_count": 46,
   "id": "e7f8b5c7-7d75-422f-9d45-72176d11d193",
   "metadata": {},
   "outputs": [],
   "source": [
    "class UserClusterRecommender:\n",
    "    def __init__(self, n_clusters=20, min_ratings=10, max_items=2000):\n",
    "        self.n_clusters = n_clusters\n",
    "        self.min_ratings = min_ratings\n",
    "        self.max_items = max_items\n",
    "        \n",
    "        self.kmeans = None\n",
    "        self.cluster_ratings = None\n",
    "        self.sparse_matrix = None\n",
    "        self.user_to_idx = None\n",
    "        self.movie_to_idx = None\n",
    "        self.idx_to_user = None\n",
    "        self.idx_to_movie = None\n",
    "        self.user_clusters = None\n",
    "        \n",
    "    def filter_data(self, df):\n",
    "        movie_counts = df['movieId'].value_counts()\n",
    "        popular_movies = movie_counts.head(self.max_items).index\n",
    "        df_filtered = df[df['movieId'].isin(popular_movies)]\n",
    "        return df_filtered\n",
    "        \n",
    "    def create_sparse_matrix(self, df):\n",
    "        \n",
    "        user_ids = df[\"userId\"].unique()\n",
    "        movie_ids = df[\"movieId\"].unique()\n",
    "\n",
    "        self.user_to_idx = {user_id: idx for idx, user_id in enumerate(user_ids)}\n",
    "        self.movie_to_idx = {movie_id: idx for idx, movie_id in enumerate(movie_ids)}\n",
    "        self.idx_to_user = {idx: user_id for user_id, idx in self.user_to_idx.items()}\n",
    "        self.idx_to_movie = {idx: movie_id for movie_id, idx in self.movie_to_idx.items()}\n",
    "\n",
    "        rows = df[\"userId\"].map(self.user_to_idx)\n",
    "        cols = df[\"movieId\"].map(self.movie_to_idx)\n",
    "        ratings = df[\"rating\"].values\n",
    "\n",
    "        self.sparse_matrix = csr_matrix(\n",
    "            (ratings, (rows, cols)),\n",
    "            shape=(len(user_ids), len(movie_ids))\n",
    "        )\n",
    "        return self.sparse_matrix\n",
    "    \n",
    "    def fit(self, df_train):\n",
    "\n",
    "        df_filtered = self.filter_data(df_train)\n",
    "        self.create_sparse_matrix(df_filtered)\n",
    "        \n",
    "        n_users, n_items = self.sparse_matrix.shape\n",
    "\n",
    "        user_matrix = self.sparse_matrix.toarray()\n",
    "        \n",
    "        self.kmeans = KMeans(n_clusters=self.n_clusters, random_state=42, n_init=10)\n",
    "        self.user_clusters = self.kmeans.fit_predict(user_matrix)\n",
    "        \n",
    "\n",
    "        self.cluster_ratings = np.zeros((self.n_clusters, n_items))\n",
    "        cluster_counts = np.zeros((self.n_clusters, n_items))\n",
    "        \n",
    "        for user_idx in tqdm(range(n_users)):\n",
    "            cluster_id = self.user_clusters[user_idx]\n",
    "            user_ratings = self.sparse_matrix[user_idx]\n",
    "            \n",
    "            for movie_idx in range(n_items):\n",
    "                rating = user_ratings[0, movie_idx]\n",
    "                if rating > 0:\n",
    "                    self.cluster_ratings[cluster_id, movie_idx] += rating\n",
    "                    cluster_counts[cluster_id, movie_idx] += 1\n",
    "        \n",
    "        global_mean = self.sparse_matrix.data.mean() if len(self.sparse_matrix.data) > 0 else 3.0\n",
    "        for cluster_id in range(self.n_clusters):\n",
    "            for movie_idx in range(n_items):\n",
    "                if cluster_counts[cluster_id, movie_idx] > 0:\n",
    "                    self.cluster_ratings[cluster_id, movie_idx] /= cluster_counts[cluster_id, movie_idx]\n",
    "                else:\n",
    "                    self.cluster_ratings[cluster_id, movie_idx] = global_mean\n",
    "        \n",
    "        cluster_sizes = np.bincount(self.user_clusters)\n",
    "\n",
    "        return self\n",
    "    \n",
    "    def predict_rating(self, user_id, movie_id):\n",
    "        if user_id not in self.user_to_idx or movie_id not in self.movie_to_idx:\n",
    "            return self.sparse_matrix.data.mean() if len(self.sparse_matrix.data) > 0 else 3.0\n",
    "        \n",
    "        user_idx = self.user_to_idx[user_id]\n",
    "        movie_idx = self.movie_to_idx[movie_id]\n",
    "        \n",
    "        cluster_id = self.user_clusters[user_idx]\n",
    "        return self.cluster_ratings[cluster_id, movie_idx]\n",
    "    \n",
    "    def recommend_for_user(self, user_id, top_k=30):\n",
    "        if user_id not in self.user_to_idx:\n",
    "            return np.array([]), np.array([])\n",
    "        \n",
    "        user_idx = self.user_to_idx[user_id]\n",
    "        user_ratings = self.sparse_matrix[user_idx]\n",
    "        rated_items = set(user_ratings.nonzero()[1])\n",
    "        \n",
    "        predictions = []\n",
    "        for movie_idx in range(len(self.movie_to_idx)):\n",
    "            if movie_idx not in rated_items:\n",
    "                movie_id = self.idx_to_movie[movie_idx]\n",
    "                score = self.predict_rating(user_id, movie_id)\n",
    "                predictions.append((movie_id, score))\n",
    "        \n",
    "        predictions.sort(key=lambda x: x[1], reverse=True)\n",
    "        items = np.array([x[0] for x in predictions[:top_k]])\n",
    "        scores = np.array([x[1] for x in predictions[:top_k]])\n",
    "        \n",
    "        return items, scores\n",
    "    \n",
    "    def recommend(self, user_ids, top_k=30):\n",
    "        recommendations = {}\n",
    "        \n",
    "        for user_id in tqdm(user_ids):\n",
    "            items, scores = self.recommend_for_user(user_id, top_k)\n",
    "            if len(items) > 0:\n",
    "                recommendations[user_id] = (items, scores)\n",
    "        \n",
    "        return recommendations"
   ]
  },
  {
   "cell_type": "code",
   "execution_count": 47,
   "id": "7eca5e82-5984-4022-8ec4-b2028bfe346f",
   "metadata": {},
   "outputs": [
    {
     "name": "stderr",
     "output_type": "stream",
     "text": [
      "100%|██████████████████████████████████| 12379/12379 [00:01<00:00, 11515.67it/s]\n",
      "100%|██████████████████████████████████| 12405/12405 [00:00<00:00, 18576.17it/s]\n"
     ]
    }
   ],
   "source": [
    "cluster_recommender = UserClusterRecommender(\n",
    "    n_clusters=20,\n",
    "    min_ratings=10,\n",
    "    max_items=10\n",
    ")\n",
    "\n",
    "cluster_recommender.fit(df_train)\n",
    "\n",
    "test_users = df_test['userId'].unique()\n",
    "recommendations_cluster = cluster_recommender.recommend(test_users, top_k=50)\n",
    "\n",
    "precision_cluster = precision_at_k(recommendations_cluster, df_test, k=50)\n",
    "map_cluster = map_at_k(recommendations_cluster, df_test, k=50)\n",
    "ndcg_cluster = ndcg_at_k(recommendations_cluster, df_test, k=50)"
   ]
  },
  {
   "cell_type": "code",
   "execution_count": 48,
   "id": "57235d3e-055e-4a64-98fe-1f8396531635",
   "metadata": {},
   "outputs": [
    {
     "name": "stdout",
     "output_type": "stream",
     "text": [
      "Precision@50: 0.3343\n",
      "MAP@50: 0.0132\n",
      "NDCG@50: 0.8622\n"
     ]
    }
   ],
   "source": [
    "print(f\"Precision@50: {precision_cluster:.4f}\")\n",
    "print(f\"MAP@50: {map_cluster:.4f}\")\n",
    "print(f\"NDCG@50: {ndcg_cluster:.4f}\")"
   ]
  },
  {
   "cell_type": "markdown",
   "id": "40bec3a3-2b4c-4163-ae84-12e5071fbeef",
   "metadata": {},
   "source": [
    "#### Итоговое сравнение метрик"
   ]
  },
  {
   "cell_type": "code",
   "execution_count": 51,
   "id": "6c0d5dc1-9973-40aa-b927-3e0893e9a769",
   "metadata": {},
   "outputs": [
    {
     "name": "stdout",
     "output_type": "stream",
     "text": [
      "Baseline\n",
      "Precision@50: 0.054695687222893995\n",
      "MAP@50: 0.010582735910267864\n",
      "User-based\n",
      "Precision@50: 0.24775493752519145\n",
      "MAP@50: 0.08194926734576582\n",
      "NDCG@50: 0.6050833309979654\n",
      "Item-based\n",
      "Precision@50: 0.1320228179548794\n",
      "MAP@50: 0.03647717173299491\n",
      "NDCG@50: 0.4164661741459025\n",
      "SVD\n",
      "Precision@50: 0.2036665071610491\n",
      "MAP@50: 0.05618597019349048\n",
      "NDCG@50: 0.5969242346143175\n",
      "Cluster\n",
      "Precision@50: 0.3343168961839848\n",
      "MAP@50: 0.013248334915391735\n",
      "NDCG@50: 0.8622324564481546\n"
     ]
    }
   ],
   "source": [
    "# Popular Baseline\n",
    "print(\"Baseline\")\n",
    "print(f\"Precision@50: {precision_baseline}\")\n",
    "print(f\"MAP@50: {map_baseline}\")\n",
    "\n",
    "print(\"User-based\")\n",
    "print(f\"Precision@50: {precision_user_based_model}\")\n",
    "print(f\"MAP@50: {map_user_based_model}\")\n",
    "print(f\"NDCG@50: {ndcg_user_based_model}\")\n",
    "\n",
    "print(\"Item-based\")\n",
    "print(f\"Precision@50: {precision_item}\")\n",
    "print(f\"MAP@50: {map_item}\")\n",
    "print(f\"NDCG@50: {ndcg_user_item}\")\n",
    "\n",
    "print(\"SVD\")\n",
    "print(f\"Precision@50: {precision_svd}\")\n",
    "print(f\"MAP@50: {map_svd}\")\n",
    "print(f\"NDCG@50: {ndcg_svd}\")\n",
    "\n",
    "print(\"Cluster\")\n",
    "print(f\"Precision@50: {precision_cluster}\")\n",
    "print(f\"MAP@50: {map_cluster}\")\n",
    "print(f\"NDCG@50: {ndcg_cluster}\")"
   ]
  },
  {
   "cell_type": "markdown",
   "id": "d66295b6-d03a-4d3d-a54e-46552c507a65",
   "metadata": {},
   "source": [
    "#### Лучшей по Precision@50, оказалось модель на основе кластеризации"
   ]
  },
  {
   "cell_type": "markdown",
   "id": "7378845b-4028-4cf7-a5c6-b5f546977b3f",
   "metadata": {},
   "source": [
    "#### Лучшей по MAP@50, оказалось модель на user-based подхода"
   ]
  },
  {
   "cell_type": "markdown",
   "id": "5efae25f-0c62-49a8-95ad-03ea4af1d830",
   "metadata": {},
   "source": [
    "#### Лучшей по NDCG@50, оказалось модель на основе кластеризации"
   ]
  }
 ],
 "metadata": {
  "kernelspec": {
   "display_name": "tvo2",
   "language": "python",
   "name": "venv"
  },
  "language_info": {
   "codemirror_mode": {
    "name": "ipython",
    "version": 3
   },
   "file_extension": ".py",
   "mimetype": "text/x-python",
   "name": "python",
   "nbconvert_exporter": "python",
   "pygments_lexer": "ipython3",
   "version": "3.11.7"
  }
 },
 "nbformat": 4,
 "nbformat_minor": 5
}
